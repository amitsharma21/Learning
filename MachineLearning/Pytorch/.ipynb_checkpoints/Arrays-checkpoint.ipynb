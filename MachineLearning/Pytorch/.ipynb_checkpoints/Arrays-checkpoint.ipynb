{
 "cells": [
  {
   "cell_type": "code",
   "execution_count": 10,
   "id": "8c12ab8a",
   "metadata": {},
   "outputs": [
    {
     "name": "stdout",
     "output_type": "stream",
     "text": [
      "tensor([-1.0161e+18,  4.5612e-41,  1.2428e+33])\n",
      "tensor([[-1.0161e+18,  4.5612e-41,  1.2475e+33],\n",
      "        [ 3.0890e-41, -3.7896e-27,  4.5612e-41]])\n",
      "tensor([0.1812, 0.5511, 0.6445])\n",
      "tensor([[0., 0.],\n",
      "        [0., 0.]])\n",
      "tensor([[1., 1.],\n",
      "        [1., 1.]])\n",
      "torch.float32\n"
     ]
    }
   ],
   "source": [
    "import torch\n",
    "x=torch.empty(3) # used to create the empty array and the array is uninitialised\n",
    "print(x)\n",
    "#2d array\n",
    "x=torch.empty(2,3)\n",
    "print(x)\n",
    "#Array with random values\n",
    "x=torch.rand(3)\n",
    "print(x)\n",
    "#Array with zeros values\n",
    "x=torch.zeros(2,2) # 2x2 array with initial values 0\n",
    "print(x)\n",
    "#Array with ones values\n",
    "x=torch.ones(2,2) # 2x2 array with initial values 1\n",
    "print(x)\n",
    "#similarly we can create the nxn matrix in pytorch\n",
    "\n",
    "#printing the datatype of the array\n",
    "print(x.dtype) #default data type value of each array is float\n",
    "\n",
    "#creating array with other datatypes\n",
    "x=torch.rand(2,2,dtype=torch.int)\n",
    "x=torch.rand(2,2,dtype=torch.double)"
   ]
  },
  {
   "cell_type": "code",
   "execution_count": null,
   "id": "ff9ae91a",
   "metadata": {},
   "outputs": [],
   "source": []
  },
  {
   "cell_type": "code",
   "execution_count": null,
   "id": "cddf29cb",
   "metadata": {},
   "outputs": [],
   "source": []
  }
 ],
 "metadata": {
  "kernelspec": {
   "display_name": "Python 3 (ipykernel)",
   "language": "python",
   "name": "python3"
  },
  "language_info": {
   "codemirror_mode": {
    "name": "ipython",
    "version": 3
   },
   "file_extension": ".py",
   "mimetype": "text/x-python",
   "name": "python",
   "nbconvert_exporter": "python",
   "pygments_lexer": "ipython3",
   "version": "3.7.12"
  }
 },
 "nbformat": 4,
 "nbformat_minor": 5
}
