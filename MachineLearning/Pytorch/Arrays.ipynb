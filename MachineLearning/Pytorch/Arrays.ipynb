{
 "cells": [
  {
   "cell_type": "code",
   "execution_count": 13,
   "id": "4aea1583",
   "metadata": {},
   "outputs": [
    {
     "name": "stdout",
     "output_type": "stream",
     "text": [
      "tensor([-1.0161e+18,  4.5612e-41,  1.2485e+33])\n",
      "tensor([[1.2475e+33, 3.0890e-41, 9.2626e+30],\n",
      "        [3.0890e-41, 1.2437e+33, 3.0890e-41]])\n",
      "tensor([0.8287, 0.8719, 0.8903])\n",
      "tensor([[0., 0.],\n",
      "        [0., 0.]])\n",
      "tensor([[1., 1.],\n",
      "        [1., 1.]])\n",
      "torch.float32\n",
      "torch.Size([2, 2])\n",
      "tensor([1, 2, 3, 4])\n"
     ]
    }
   ],
   "source": [
    "import torch\n",
    "\n",
    "# used to create the empty array and the array is uninitialised\n",
    "x=torch.empty(3) \n",
    "print(x)\n",
    "\n",
    "#2d array\n",
    "x=torch.empty(2,3)\n",
    "print(x)\n",
    "\n",
    "#Array with random values\n",
    "x=torch.rand(3)\n",
    "print(x)\n",
    "\n",
    "#Array with intial zeros values\n",
    "x=torch.zeros(2,2) \n",
    "print(x)\n",
    "\n",
    "#Array with ones values\n",
    "x=torch.ones(2,2)\n",
    "print(x)\n",
    "\n",
    "#printing the datatype of the array\n",
    "print(x.dtype)\n",
    "\n",
    "#creating array with other datatypes\n",
    "x=torch.ones(2,2,dtype=torch.int)\n",
    "x=torch.zeros(2,2,dtype=torch.double)\n",
    "\n",
    "#Size\n",
    "print(x.size())\n",
    "\n",
    "#creating tensor/array from initial list\n",
    "x=torch.tensor([1,2,3,4])\n",
    "print(x)\n",
    "\n"
   ]
  },
  {
   "cell_type": "code",
   "execution_count": 24,
   "id": "7795cadb",
   "metadata": {},
   "outputs": [
    {
     "name": "stdout",
     "output_type": "stream",
     "text": [
      "tensor([[0.5530, 0.2229],\n",
      "        [0.6849, 0.5502]])\n",
      "tensor([[0.7540, 0.9926],\n",
      "        [0.4971, 0.7260]])\n",
      "tensor([[1.3070, 1.2156],\n",
      "        [1.1820, 1.2762]])\n",
      "tensor([[1.3070, 1.2156],\n",
      "        [1.1820, 1.2762]])\n",
      "tensor([0.5530, 0.6849])\n",
      "tensor([0.5530, 0.2229])\n",
      "tensor([[0.5530, 0.2229],\n",
      "        [0.6849, 0.5502]])\n",
      "tensor(0.5502)\n",
      "0.5501731634140015\n"
     ]
    }
   ],
   "source": [
    "#Arithematic operations\n",
    "x=torch.rand(2,2)\n",
    "y=torch.rand(2,2)\n",
    "print(x)\n",
    "print(y)\n",
    "\n",
    "#element wise addition\n",
    "z=x+y\n",
    "print(z)\n",
    "\n",
    "#inplace addition operation: in this we dont store addition result in new array but in same array \n",
    "#y values will be changed below \n",
    "y.add_(x)\n",
    "print(y)\n",
    "\n",
    "# similarty for add,multiplication and division\n",
    "\n",
    "#Slicing operation:\n",
    "#print all rows 0th column\n",
    "print(x[:,0])\n",
    "\n",
    "#print(1 row all columns)\n",
    "print(x[0,:])\n",
    "\n",
    "#print(complete tensor)\n",
    "print(x[:,:])\n",
    "\n",
    "#print element at 1st row 1st column\n",
    "print(x[1,1])\n",
    "\n",
    "#to above method is printing tensor suppose we need the value only\n",
    "print(x[1,1].item())"
   ]
  },
  {
   "cell_type": "code",
   "execution_count": 29,
   "id": "8f7ebf8f",
   "metadata": {},
   "outputs": [
    {
     "name": "stdout",
     "output_type": "stream",
     "text": [
      "tensor([1., 1., 1., 1., 1.])\n",
      "[1. 1. 1. 1. 1.]\n",
      "[1. 1. 1. 1. 1.]\n",
      "tensor([1., 1., 1., 1., 1.], dtype=torch.float64)\n"
     ]
    }
   ],
   "source": [
    "#converting the numpy array to torch array and vice versa\n",
    "import numpy as np\n",
    "\n",
    "#converting the pytorch array to numpy array both array points to same memory location means if we change one\n",
    "#array changes will also reflect in other\n",
    "a=torch.ones(5)\n",
    "print(a)\n",
    "b=a.numpy()\n",
    "print(b)\n",
    "\n",
    "#converting the numpy array to the torch array,the both array points to same memory location here also\n",
    "a=np.ones(5)\n",
    "print(a)\n",
    "b=torch.from_numpy(a)\n",
    "print(b)\n",
    "\n"
   ]
  },
  {
   "cell_type": "code",
   "execution_count": null,
   "id": "bac26e67",
   "metadata": {},
   "outputs": [],
   "source": []
  }
 ],
 "metadata": {
  "kernelspec": {
   "display_name": "Python 3 (ipykernel)",
   "language": "python",
   "name": "python3"
  },
  "language_info": {
   "codemirror_mode": {
    "name": "ipython",
    "version": 3
   },
   "file_extension": ".py",
   "mimetype": "text/x-python",
   "name": "python",
   "nbconvert_exporter": "python",
   "pygments_lexer": "ipython3",
   "version": "3.7.12"
  }
 },
 "nbformat": 4,
 "nbformat_minor": 5
}
